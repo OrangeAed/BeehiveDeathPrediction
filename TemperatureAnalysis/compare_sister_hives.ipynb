{
 "cells": [
  {
   "cell_type": "code",
   "id": "e72984bfd7d95f5b",
   "metadata": {
    "ExecuteTime": {
     "end_time": "2025-01-23T19:09:55.338596Z",
     "start_time": "2025-01-23T19:09:55.335331Z"
    }
   },
   "source": [
    "from datetime import datetime\n",
    "from scipy.stats import ttest_rel, mannwhitneyu\n",
    "from TemperatureAnalysis.collect_data import CollectData\n",
    "import death_info\n",
    "import matplotlib.pyplot as plt\n",
    "import pandas as pd\n",
    "from matplotlib.dates import DateFormatter"
   ],
   "outputs": [],
   "execution_count": 4
  },
  {
   "metadata": {
    "ExecuteTime": {
     "end_time": "2025-01-23T19:10:21.985503Z",
     "start_time": "2025-01-23T19:09:55.389876Z"
    }
   },
   "cell_type": "code",
   "source": [
    "def get_sister_dataframes(hives: list[tuple[str, str]], times_of_death, avg_by_day: bool = False) -> list[tuple[pd.DataFrame, pd.DataFrame]]:\n",
    "    sister_hives = []\n",
    "    for surviving_hive, died_hive in hives:\n",
    "        end_date = times_of_death[died_hive]\n",
    "        start_date = max(datetime(2022, 4, 10), end_date - pd.Timedelta(days=90))\n",
    "        surviving_df = cd.get_temp_dataframe(surviving_hive, start_date, end_date, avg_by_day)\n",
    "        died_df = cd.get_temp_dataframe(died_hive, start_date, end_date, avg_by_day)\n",
    "        sister_hives.append((surviving_df, died_df))\n",
    "\n",
    "    return sister_hives\n",
    "\n",
    "\n",
    "def plot_sister_hives(sister_hives: list[tuple[pd.DataFrame, pd.DataFrame]], hive_names: list[tuple[str, str]]):\n",
    "    for i in range(len(sister_hives)):\n",
    "        fig, ax = plt.subplots()\n",
    "        ax.plot(sister_hives[i][0]['Time'], sister_hives[i][0]['TemperatureDifference'], label=\"Survived\")\n",
    "        ax.plot(sister_hives[i][1]['Time'], sister_hives[i][1]['TemperatureDifference'], label=\"Died\")\n",
    "        ax.set_title(f\"{hive_names[i][0]} vs {hive_names[i][1]}\", fontsize=12)\n",
    "        ax.set_xlabel(\"Date\")\n",
    "        ax.set_ylabel(\"Temperature Difference (°F)\")\n",
    "        ax.legend()\n",
    "        \n",
    "        # Set the date format to exclude the year\n",
    "        date_format = DateFormatter(\"%m-%d\")\n",
    "        ax.xaxis.set_major_formatter(date_format)\n",
    "        \n",
    "        plt.show()\n",
    "\n",
    "sister_hives = death_info.get_2022_opposing_pairs()\n",
    "times_of_death = death_info.get_2022_deaths_early()\n",
    "\n",
    "cd = CollectData()\n",
    "sister_hives_dfs = get_sister_dataframes(sister_hives, times_of_death, True)\n"
   ],
   "id": "9c785cafb56cef4c",
   "outputs": [],
   "execution_count": 5
  },
  {
   "metadata": {
    "ExecuteTime": {
     "end_time": "2025-01-23T19:10:22.065162Z",
     "start_time": "2025-01-23T19:10:22.004083Z"
    }
   },
   "cell_type": "code",
   "source": [
    "def test_difference(survived: pd.DataFrame, died: pd.DataFrame):\n",
    "    stat, p_value = ttest_rel(survived['TemperatureDifference'], died['TemperatureDifference'])\n",
    "    return stat, p_value\n",
    "\n",
    "\n",
    "\n",
    "for i in range(len(sister_hives_dfs)):\n",
    "    print(f\"Test for {sister_hives[i][0]} vs {sister_hives[i][1]}\")\n",
    "    sister_hives_dfs[i][0].dropna(inplace=True)\n",
    "    sister_hives_dfs[i][1].dropna(inplace=True)\n",
    "    if len(sister_hives_dfs[i][0]) != len(sister_hives_dfs[i][1]):\n",
    "        print(\"Dataframes have different lengths\")\n",
    "        continue\n",
    "    \n",
    "    sister_hives_dfs[i][0]['TemperatureDifference'] = sister_hives_dfs[i][0]['TemperatureDifference'].abs()\n",
    "    sister_hives_dfs[i][1]['TemperatureDifference'] = sister_hives_dfs[i][1]['TemperatureDifference'].abs()\n",
    "    stat, p_value = test_difference(sister_hives_dfs[i][0], sister_hives_dfs[i][1])\n",
    "    print(f\"Statistic: {stat}, p-value: {p_value}\")\n",
    "    print()"
   ],
   "id": "45bc465b5b3ca80",
   "outputs": [
    {
     "name": "stdout",
     "output_type": "stream",
     "text": [
      "Test for AppMAIS1R vs AppMAIS1L\n"
     ]
    },
    {
     "ename": "KeyError",
     "evalue": "'TemperatureDifference'",
     "output_type": "error",
     "traceback": [
      "\u001B[0;31m---------------------------------------------------------------------------\u001B[0m",
      "\u001B[0;31mKeyError\u001B[0m                                  Traceback (most recent call last)",
      "File \u001B[0;32m~/.conda/envs/BeehiveDeathPrediction/lib/python3.10/site-packages/pandas/core/indexes/base.py:3805\u001B[0m, in \u001B[0;36mIndex.get_loc\u001B[0;34m(self, key)\u001B[0m\n\u001B[1;32m   3804\u001B[0m \u001B[38;5;28;01mtry\u001B[39;00m:\n\u001B[0;32m-> 3805\u001B[0m     \u001B[38;5;28;01mreturn\u001B[39;00m \u001B[38;5;28;43mself\u001B[39;49m\u001B[38;5;241;43m.\u001B[39;49m\u001B[43m_engine\u001B[49m\u001B[38;5;241;43m.\u001B[39;49m\u001B[43mget_loc\u001B[49m\u001B[43m(\u001B[49m\u001B[43mcasted_key\u001B[49m\u001B[43m)\u001B[49m\n\u001B[1;32m   3806\u001B[0m \u001B[38;5;28;01mexcept\u001B[39;00m \u001B[38;5;167;01mKeyError\u001B[39;00m \u001B[38;5;28;01mas\u001B[39;00m err:\n",
      "File \u001B[0;32mindex.pyx:167\u001B[0m, in \u001B[0;36mpandas._libs.index.IndexEngine.get_loc\u001B[0;34m()\u001B[0m\n",
      "File \u001B[0;32mindex.pyx:196\u001B[0m, in \u001B[0;36mpandas._libs.index.IndexEngine.get_loc\u001B[0;34m()\u001B[0m\n",
      "File \u001B[0;32mpandas/_libs/hashtable_class_helper.pxi:7081\u001B[0m, in \u001B[0;36mpandas._libs.hashtable.PyObjectHashTable.get_item\u001B[0;34m()\u001B[0m\n",
      "File \u001B[0;32mpandas/_libs/hashtable_class_helper.pxi:7089\u001B[0m, in \u001B[0;36mpandas._libs.hashtable.PyObjectHashTable.get_item\u001B[0;34m()\u001B[0m\n",
      "\u001B[0;31mKeyError\u001B[0m: 'TemperatureDifference'",
      "\nThe above exception was the direct cause of the following exception:\n",
      "\u001B[0;31mKeyError\u001B[0m                                  Traceback (most recent call last)",
      "Cell \u001B[0;32mIn[6], line 15\u001B[0m\n\u001B[1;32m     12\u001B[0m     \u001B[38;5;28mprint\u001B[39m(\u001B[38;5;124m\"\u001B[39m\u001B[38;5;124mDataframes have different lengths\u001B[39m\u001B[38;5;124m\"\u001B[39m)\n\u001B[1;32m     13\u001B[0m     \u001B[38;5;28;01mcontinue\u001B[39;00m\n\u001B[0;32m---> 15\u001B[0m sister_hives_dfs[i][\u001B[38;5;241m0\u001B[39m][\u001B[38;5;124m'\u001B[39m\u001B[38;5;124mTemperatureDifference\u001B[39m\u001B[38;5;124m'\u001B[39m] \u001B[38;5;241m=\u001B[39m \u001B[43msister_hives_dfs\u001B[49m\u001B[43m[\u001B[49m\u001B[43mi\u001B[49m\u001B[43m]\u001B[49m\u001B[43m[\u001B[49m\u001B[38;5;241;43m0\u001B[39;49m\u001B[43m]\u001B[49m\u001B[43m[\u001B[49m\u001B[38;5;124;43m'\u001B[39;49m\u001B[38;5;124;43mTemperatureDifference\u001B[39;49m\u001B[38;5;124;43m'\u001B[39;49m\u001B[43m]\u001B[49m\u001B[38;5;241m.\u001B[39mabs()\n\u001B[1;32m     16\u001B[0m sister_hives_dfs[i][\u001B[38;5;241m1\u001B[39m][\u001B[38;5;124m'\u001B[39m\u001B[38;5;124mTemperatureDifference\u001B[39m\u001B[38;5;124m'\u001B[39m] \u001B[38;5;241m=\u001B[39m sister_hives_dfs[i][\u001B[38;5;241m1\u001B[39m][\u001B[38;5;124m'\u001B[39m\u001B[38;5;124mTemperatureDifference\u001B[39m\u001B[38;5;124m'\u001B[39m]\u001B[38;5;241m.\u001B[39mabs()\n\u001B[1;32m     17\u001B[0m stat, p_value \u001B[38;5;241m=\u001B[39m test_difference(sister_hives_dfs[i][\u001B[38;5;241m0\u001B[39m], sister_hives_dfs[i][\u001B[38;5;241m1\u001B[39m])\n",
      "File \u001B[0;32m~/.conda/envs/BeehiveDeathPrediction/lib/python3.10/site-packages/pandas/core/frame.py:4102\u001B[0m, in \u001B[0;36mDataFrame.__getitem__\u001B[0;34m(self, key)\u001B[0m\n\u001B[1;32m   4100\u001B[0m \u001B[38;5;28;01mif\u001B[39;00m \u001B[38;5;28mself\u001B[39m\u001B[38;5;241m.\u001B[39mcolumns\u001B[38;5;241m.\u001B[39mnlevels \u001B[38;5;241m>\u001B[39m \u001B[38;5;241m1\u001B[39m:\n\u001B[1;32m   4101\u001B[0m     \u001B[38;5;28;01mreturn\u001B[39;00m \u001B[38;5;28mself\u001B[39m\u001B[38;5;241m.\u001B[39m_getitem_multilevel(key)\n\u001B[0;32m-> 4102\u001B[0m indexer \u001B[38;5;241m=\u001B[39m \u001B[38;5;28;43mself\u001B[39;49m\u001B[38;5;241;43m.\u001B[39;49m\u001B[43mcolumns\u001B[49m\u001B[38;5;241;43m.\u001B[39;49m\u001B[43mget_loc\u001B[49m\u001B[43m(\u001B[49m\u001B[43mkey\u001B[49m\u001B[43m)\u001B[49m\n\u001B[1;32m   4103\u001B[0m \u001B[38;5;28;01mif\u001B[39;00m is_integer(indexer):\n\u001B[1;32m   4104\u001B[0m     indexer \u001B[38;5;241m=\u001B[39m [indexer]\n",
      "File \u001B[0;32m~/.conda/envs/BeehiveDeathPrediction/lib/python3.10/site-packages/pandas/core/indexes/base.py:3812\u001B[0m, in \u001B[0;36mIndex.get_loc\u001B[0;34m(self, key)\u001B[0m\n\u001B[1;32m   3807\u001B[0m     \u001B[38;5;28;01mif\u001B[39;00m \u001B[38;5;28misinstance\u001B[39m(casted_key, \u001B[38;5;28mslice\u001B[39m) \u001B[38;5;129;01mor\u001B[39;00m (\n\u001B[1;32m   3808\u001B[0m         \u001B[38;5;28misinstance\u001B[39m(casted_key, abc\u001B[38;5;241m.\u001B[39mIterable)\n\u001B[1;32m   3809\u001B[0m         \u001B[38;5;129;01mand\u001B[39;00m \u001B[38;5;28many\u001B[39m(\u001B[38;5;28misinstance\u001B[39m(x, \u001B[38;5;28mslice\u001B[39m) \u001B[38;5;28;01mfor\u001B[39;00m x \u001B[38;5;129;01min\u001B[39;00m casted_key)\n\u001B[1;32m   3810\u001B[0m     ):\n\u001B[1;32m   3811\u001B[0m         \u001B[38;5;28;01mraise\u001B[39;00m InvalidIndexError(key)\n\u001B[0;32m-> 3812\u001B[0m     \u001B[38;5;28;01mraise\u001B[39;00m \u001B[38;5;167;01mKeyError\u001B[39;00m(key) \u001B[38;5;28;01mfrom\u001B[39;00m \u001B[38;5;21;01merr\u001B[39;00m\n\u001B[1;32m   3813\u001B[0m \u001B[38;5;28;01mexcept\u001B[39;00m \u001B[38;5;167;01mTypeError\u001B[39;00m:\n\u001B[1;32m   3814\u001B[0m     \u001B[38;5;66;03m# If we have a listlike key, _check_indexing_error will raise\u001B[39;00m\n\u001B[1;32m   3815\u001B[0m     \u001B[38;5;66;03m#  InvalidIndexError. Otherwise we fall through and re-raise\u001B[39;00m\n\u001B[1;32m   3816\u001B[0m     \u001B[38;5;66;03m#  the TypeError.\u001B[39;00m\n\u001B[1;32m   3817\u001B[0m     \u001B[38;5;28mself\u001B[39m\u001B[38;5;241m.\u001B[39m_check_indexing_error(key)\n",
      "\u001B[0;31mKeyError\u001B[0m: 'TemperatureDifference'"
     ]
    }
   ],
   "execution_count": 6
  },
  {
   "metadata": {
    "collapsed": true
   },
   "cell_type": "code",
   "source": [
    "# plot_sister_hives(sister_hives_dfs, sister_hives)\n",
    "\n",
    "def plot_temperature_difference(sister_hives: list[tuple[pd.DataFrame, pd.DataFrame]], hive_names: list[tuple[str, str]]):\n",
    "    fig, ax = plt.subplots()\n",
    "\n",
    "    for i in range(len(sister_hives)):\n",
    "        # Merge dataframes on 'Time' to ensure they have the same length\n",
    "        merged_df = pd.merge(sister_hives[i][0], sister_hives[i][1], on='Time', suffixes=('_survived', '_died'))\n",
    "        \n",
    "        # Calculate the difference in Temperature Difference\n",
    "        temp_diff = merged_df['TemperatureDifference_survived'] - merged_df['TemperatureDifference_died']\n",
    "        ax.plot(merged_df['Time'], temp_diff, label=f\"{hive_names[i][0]} - {hive_names[i][1]}\")\n",
    "\n",
    "    ax.set_title(\"Temperature Difference (Surviving Hive - Died Hive)\")\n",
    "    ax.set_xlabel(\"Date\")\n",
    "    ax.set_ylabel(\"Temperature Difference (°F)\")\n",
    "    ax.legend()\n",
    "\n",
    "    # Set the date format to exclude the year\n",
    "    date_format = DateFormatter(\"%m-%d\")\n",
    "    ax.xaxis.set_major_formatter(date_format)\n",
    "\n",
    "    plt.show()\n",
    "\n",
    "plot_temperature_difference(sister_hives_dfs, sister_hives)"
   ],
   "id": "initial_id",
   "outputs": [],
   "execution_count": null
  },
  {
   "metadata": {},
   "cell_type": "code",
   "source": [
    "def normalize_days(sister_hives: list[tuple[pd.DataFrame, pd.DataFrame]], times_of_death: list[pd.Timestamp]):\n",
    "    normalized_hives = []\n",
    "    for i, (surviving_df, died_df) in enumerate(sister_hives):\n",
    "        end_date = times_of_death[i]\n",
    "        start_date = end_date - pd.Timedelta(days=60)\n",
    "\n",
    "        surviving_df = surviving_df[(surviving_df['Time'] >= start_date) & (surviving_df['Time'] <= end_date)]\n",
    "        died_df = died_df[(died_df['Time'] >= start_date) & (died_df['Time'] <= end_date)]\n",
    "\n",
    "        normalized_hives.append((surviving_df, died_df))\n",
    "\n",
    "    return normalized_hives\n",
    "\n",
    "# Example usage\n",
    "# normalized_sister_hives = normalize_days(sister_hives_dfs, times_of_death)\n",
    "# plot_temperature_difference(normalized_sister_hives, sister_hives)"
   ],
   "id": "7a08d7bf3af2d39a",
   "outputs": [],
   "execution_count": null
  },
  {
   "metadata": {},
   "cell_type": "code",
   "source": [
    "def perform_mann_whitney_test(sister_hives: list[tuple[pd.DataFrame, pd.DataFrame]]):\n",
    "    results = []\n",
    "    for surviving_df, died_df in sister_hives:\n",
    "        # Convert TemperatureDifference to numeric, coercing errors to NaN\n",
    "        surviving_df['TemperatureDifference'] = pd.to_numeric(surviving_df['TemperatureDifference'], errors='coerce')\n",
    "        died_df['TemperatureDifference'] = pd.to_numeric(died_df['TemperatureDifference'], errors='coerce')\n",
    "\n",
    "        survived_temp_diff = surviving_df['TemperatureDifference'].dropna().values\n",
    "        died_temp_diff = died_df['TemperatureDifference'].dropna().values\n",
    "\n",
    "        # Perform the Mann-Whitney U test\n",
    "        stat, p_value = mannwhitneyu(survived_temp_diff, died_temp_diff, alternative='greater')\n",
    "        results.append((stat, p_value))\n",
    "\n",
    "    return results\n",
    "\n",
    "# Example usage\n",
    "test_results = perform_mann_whitney_test(sister_hives_dfs)\n",
    "for i, (stat, p_value) in enumerate(test_results):\n",
    "    print(f\"Test for {sister_hives[i][0]} vs {sister_hives[i][1]}: Statistic = {stat}, p-value = {p_value}\")"
   ],
   "id": "869e81c4ff680da4",
   "outputs": [],
   "execution_count": null
  }
 ],
 "metadata": {
  "kernelspec": {
   "display_name": "Python 3",
   "language": "python",
   "name": "python3"
  },
  "language_info": {
   "codemirror_mode": {
    "name": "ipython",
    "version": 2
   },
   "file_extension": ".py",
   "mimetype": "text/x-python",
   "name": "python",
   "nbconvert_exporter": "python",
   "pygments_lexer": "ipython2",
   "version": "2.7.6"
  }
 },
 "nbformat": 4,
 "nbformat_minor": 5
}
