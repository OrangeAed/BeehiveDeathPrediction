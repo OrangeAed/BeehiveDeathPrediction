{
 "cells": [
  {
   "cell_type": "code",
   "id": "e72984bfd7d95f5b",
   "metadata": {
    "ExecuteTime": {
     "end_time": "2025-01-18T17:52:06.475353Z",
     "start_time": "2025-01-18T17:52:05.500931Z"
    }
   },
   "source": [
    "from datetime import datetime\n",
    "from scipy.stats import ttest_rel, mannwhitneyu\n",
    "from TemperatureAnalysis.collect_data import CollectData\n",
    "import death_info\n",
    "import matplotlib.pyplot as plt\n",
    "import pandas as pd\n",
    "from matplotlib.dates import DateFormatter"
   ],
   "outputs": [],
   "execution_count": 1
  },
  {
   "metadata": {
    "ExecuteTime": {
     "end_time": "2025-01-18T17:52:27.770247Z",
     "start_time": "2025-01-18T17:52:15.046583Z"
    }
   },
   "cell_type": "code",
   "source": [
    "def get_sister_dataframes(hives: list[tuple[str, str]], times_of_death, avg_by_day: bool = False) -> list[tuple[pd.DataFrame, pd.DataFrame]]:\n",
    "    sister_hives = []\n",
    "    for surviving_hive, died_hive in hives:\n",
    "        end_date = times_of_death[died_hive]\n",
    "        start_date = max(datetime(2022, 4, 10), end_date - pd.Timedelta(days=90))\n",
    "        surviving_df = cd.get_temp_dataframe(surviving_hive, start_date, end_date)\n",
    "        died_df = cd.get_temp_dataframe(died_hive, start_date, end_date)\n",
    "        if avg_by_day:\n",
    "            surviving_df = cd.get_temp_dataframe_averaged_by_day(surviving_df)\n",
    "            died_df = cd.get_temp_dataframe_averaged_by_day(died_df)\n",
    "        sister_hives.append((surviving_df, died_df))\n",
    "\n",
    "    return sister_hives\n",
    "\n",
    "\n",
    "def plot_sister_hives(sister_hives: list[tuple[pd.DataFrame, pd.DataFrame]], hive_names: list[tuple[str, str]]):\n",
    "    for i in range(len(sister_hives)):\n",
    "        fig, ax = plt.subplots()\n",
    "        ax.plot(sister_hives[i][0]['Time'], sister_hives[i][0]['TemperatureDifference'], label=\"Survived\")\n",
    "        ax.plot(sister_hives[i][1]['Time'], sister_hives[i][1]['TemperatureDifference'], label=\"Died\")\n",
    "        ax.set_title(f\"{hive_names[i][0]} vs {hive_names[i][1]}\", fontsize=12)\n",
    "        ax.set_xlabel(\"Date\")\n",
    "        ax.set_ylabel(\"Temperature Difference (°F)\")\n",
    "        ax.legend()\n",
    "        \n",
    "        # Set the date format to exclude the year\n",
    "        date_format = DateFormatter(\"%m-%d\")\n",
    "        ax.xaxis.set_major_formatter(date_format)\n",
    "        \n",
    "        plt.show()\n",
    "\n",
    "sister_hives = death_info.get_2022_opposing_pairs()\n",
    "times_of_death = death_info.get_2022_deaths_early()\n",
    "\n",
    "cd = CollectData()\n",
    "sister_hives_dfs = get_sister_dataframes(sister_hives, times_of_death, True)\n"
   ],
   "id": "9c785cafb56cef4c",
   "outputs": [
    {
     "ename": "KeyError",
     "evalue": "\"['Humidity'] not in index\"",
     "output_type": "error",
     "traceback": [
      "\u001B[0;31m---------------------------------------------------------------------------\u001B[0m",
      "\u001B[0;31mKeyError\u001B[0m                                  Traceback (most recent call last)",
      "Cell \u001B[0;32mIn[2], line 36\u001B[0m\n\u001B[1;32m     33\u001B[0m times_of_death \u001B[38;5;241m=\u001B[39m death_info\u001B[38;5;241m.\u001B[39mget_2022_deaths_early()\n\u001B[1;32m     35\u001B[0m cd \u001B[38;5;241m=\u001B[39m CollectData()\n\u001B[0;32m---> 36\u001B[0m sister_hives_dfs \u001B[38;5;241m=\u001B[39m \u001B[43mget_sister_dataframes\u001B[49m\u001B[43m(\u001B[49m\u001B[43msister_hives\u001B[49m\u001B[43m,\u001B[49m\u001B[43m \u001B[49m\u001B[43mtimes_of_death\u001B[49m\u001B[43m,\u001B[49m\u001B[43m \u001B[49m\u001B[38;5;28;43;01mTrue\u001B[39;49;00m\u001B[43m)\u001B[49m\n",
      "Cell \u001B[0;32mIn[2], line 6\u001B[0m, in \u001B[0;36mget_sister_dataframes\u001B[0;34m(hives, times_of_death, avg_by_day)\u001B[0m\n\u001B[1;32m      4\u001B[0m end_date \u001B[38;5;241m=\u001B[39m times_of_death[died_hive]\n\u001B[1;32m      5\u001B[0m start_date \u001B[38;5;241m=\u001B[39m \u001B[38;5;28mmax\u001B[39m(datetime(\u001B[38;5;241m2022\u001B[39m, \u001B[38;5;241m4\u001B[39m, \u001B[38;5;241m10\u001B[39m), end_date \u001B[38;5;241m-\u001B[39m pd\u001B[38;5;241m.\u001B[39mTimedelta(days\u001B[38;5;241m=\u001B[39m\u001B[38;5;241m90\u001B[39m))\n\u001B[0;32m----> 6\u001B[0m surviving_df \u001B[38;5;241m=\u001B[39m \u001B[43mcd\u001B[49m\u001B[38;5;241;43m.\u001B[39;49m\u001B[43mget_temp_dataframe\u001B[49m\u001B[43m(\u001B[49m\u001B[43msurviving_hive\u001B[49m\u001B[43m,\u001B[49m\u001B[43m \u001B[49m\u001B[43mstart_date\u001B[49m\u001B[43m,\u001B[49m\u001B[43m \u001B[49m\u001B[43mend_date\u001B[49m\u001B[43m)\u001B[49m\n\u001B[1;32m      7\u001B[0m died_df \u001B[38;5;241m=\u001B[39m cd\u001B[38;5;241m.\u001B[39mget_temp_dataframe(died_hive, start_date, end_date)\n\u001B[1;32m      8\u001B[0m \u001B[38;5;28;01mif\u001B[39;00m avg_by_day:\n",
      "File \u001B[0;32m/tmp/pycharm_project_822/TemperatureAnalysis/collect_data.py:109\u001B[0m, in \u001B[0;36mCollectData.get_temp_dataframe\u001B[0;34m(self, hivename, start_date, end_date)\u001B[0m\n\u001B[1;32m    100\u001B[0m merged_df \u001B[38;5;241m=\u001B[39m pd\u001B[38;5;241m.\u001B[39mmerge_asof(\n\u001B[1;32m    101\u001B[0m     internal_df\u001B[38;5;241m.\u001B[39msort_values(\u001B[38;5;124m\"\u001B[39m\u001B[38;5;124mTimeStamp\u001B[39m\u001B[38;5;124m\"\u001B[39m),\n\u001B[1;32m    102\u001B[0m     external_df\u001B[38;5;241m.\u001B[39msort_values(\u001B[38;5;124m\"\u001B[39m\u001B[38;5;124mTimeStamp\u001B[39m\u001B[38;5;124m\"\u001B[39m),\n\u001B[0;32m   (...)\u001B[0m\n\u001B[1;32m    105\u001B[0m     suffixes\u001B[38;5;241m=\u001B[39m(\u001B[38;5;124m\"\u001B[39m\u001B[38;5;124m_internal\u001B[39m\u001B[38;5;124m\"\u001B[39m, \u001B[38;5;124m\"\u001B[39m\u001B[38;5;124m_external\u001B[39m\u001B[38;5;124m\"\u001B[39m)\n\u001B[1;32m    106\u001B[0m )\n\u001B[1;32m    108\u001B[0m \u001B[38;5;66;03m# Select required columns\u001B[39;00m\n\u001B[0;32m--> 109\u001B[0m final_df \u001B[38;5;241m=\u001B[39m \u001B[43mmerged_df\u001B[49m\u001B[43m[\u001B[49m\u001B[43m[\u001B[49m\u001B[38;5;124;43m\"\u001B[39;49m\u001B[38;5;124;43mTimeStamp\u001B[39;49m\u001B[38;5;124;43m\"\u001B[39;49m\u001B[43m,\u001B[49m\u001B[43m \u001B[49m\u001B[38;5;124;43m\"\u001B[39;49m\u001B[38;5;124;43mTemperature\u001B[39;49m\u001B[38;5;124;43m\"\u001B[39;49m\u001B[43m,\u001B[49m\u001B[43m \u001B[49m\u001B[43mtemp_field_name\u001B[49m\u001B[43m,\u001B[49m\u001B[43m \u001B[49m\u001B[38;5;124;43m\"\u001B[39;49m\u001B[38;5;124;43mHumidity\u001B[39;49m\u001B[38;5;124;43m\"\u001B[39;49m\u001B[43m]\u001B[49m\u001B[43m]\u001B[49m\n\u001B[1;32m    110\u001B[0m final_df\u001B[38;5;241m.\u001B[39mrename(columns\u001B[38;5;241m=\u001B[39m{\n\u001B[1;32m    111\u001B[0m     \u001B[38;5;124m\"\u001B[39m\u001B[38;5;124mTimeStamp\u001B[39m\u001B[38;5;124m\"\u001B[39m: \u001B[38;5;124m\"\u001B[39m\u001B[38;5;124mTime\u001B[39m\u001B[38;5;124m\"\u001B[39m,\n\u001B[1;32m    112\u001B[0m     \u001B[38;5;124m\"\u001B[39m\u001B[38;5;124mTemperature\u001B[39m\u001B[38;5;124m\"\u001B[39m: \u001B[38;5;124m\"\u001B[39m\u001B[38;5;124mInternalTemperature\u001B[39m\u001B[38;5;124m\"\u001B[39m,\n\u001B[1;32m    113\u001B[0m     temp_field_name: \u001B[38;5;124m\"\u001B[39m\u001B[38;5;124mExternalTemperature\u001B[39m\u001B[38;5;124m\"\u001B[39m\n\u001B[1;32m    114\u001B[0m }, inplace\u001B[38;5;241m=\u001B[39m\u001B[38;5;28;01mTrue\u001B[39;00m)\n\u001B[1;32m    116\u001B[0m \u001B[38;5;66;03m# Calculate the difference\u001B[39;00m\n",
      "File \u001B[0;32m~/.conda/envs/BeehiveDeathPrediction/lib/python3.10/site-packages/pandas/core/frame.py:4108\u001B[0m, in \u001B[0;36mDataFrame.__getitem__\u001B[0;34m(self, key)\u001B[0m\n\u001B[1;32m   4106\u001B[0m     \u001B[38;5;28;01mif\u001B[39;00m is_iterator(key):\n\u001B[1;32m   4107\u001B[0m         key \u001B[38;5;241m=\u001B[39m \u001B[38;5;28mlist\u001B[39m(key)\n\u001B[0;32m-> 4108\u001B[0m     indexer \u001B[38;5;241m=\u001B[39m \u001B[38;5;28;43mself\u001B[39;49m\u001B[38;5;241;43m.\u001B[39;49m\u001B[43mcolumns\u001B[49m\u001B[38;5;241;43m.\u001B[39;49m\u001B[43m_get_indexer_strict\u001B[49m\u001B[43m(\u001B[49m\u001B[43mkey\u001B[49m\u001B[43m,\u001B[49m\u001B[43m \u001B[49m\u001B[38;5;124;43m\"\u001B[39;49m\u001B[38;5;124;43mcolumns\u001B[39;49m\u001B[38;5;124;43m\"\u001B[39;49m\u001B[43m)\u001B[49m[\u001B[38;5;241m1\u001B[39m]\n\u001B[1;32m   4110\u001B[0m \u001B[38;5;66;03m# take() does not accept boolean indexers\u001B[39;00m\n\u001B[1;32m   4111\u001B[0m \u001B[38;5;28;01mif\u001B[39;00m \u001B[38;5;28mgetattr\u001B[39m(indexer, \u001B[38;5;124m\"\u001B[39m\u001B[38;5;124mdtype\u001B[39m\u001B[38;5;124m\"\u001B[39m, \u001B[38;5;28;01mNone\u001B[39;00m) \u001B[38;5;241m==\u001B[39m \u001B[38;5;28mbool\u001B[39m:\n",
      "File \u001B[0;32m~/.conda/envs/BeehiveDeathPrediction/lib/python3.10/site-packages/pandas/core/indexes/base.py:6200\u001B[0m, in \u001B[0;36mIndex._get_indexer_strict\u001B[0;34m(self, key, axis_name)\u001B[0m\n\u001B[1;32m   6197\u001B[0m \u001B[38;5;28;01melse\u001B[39;00m:\n\u001B[1;32m   6198\u001B[0m     keyarr, indexer, new_indexer \u001B[38;5;241m=\u001B[39m \u001B[38;5;28mself\u001B[39m\u001B[38;5;241m.\u001B[39m_reindex_non_unique(keyarr)\n\u001B[0;32m-> 6200\u001B[0m \u001B[38;5;28;43mself\u001B[39;49m\u001B[38;5;241;43m.\u001B[39;49m\u001B[43m_raise_if_missing\u001B[49m\u001B[43m(\u001B[49m\u001B[43mkeyarr\u001B[49m\u001B[43m,\u001B[49m\u001B[43m \u001B[49m\u001B[43mindexer\u001B[49m\u001B[43m,\u001B[49m\u001B[43m \u001B[49m\u001B[43maxis_name\u001B[49m\u001B[43m)\u001B[49m\n\u001B[1;32m   6202\u001B[0m keyarr \u001B[38;5;241m=\u001B[39m \u001B[38;5;28mself\u001B[39m\u001B[38;5;241m.\u001B[39mtake(indexer)\n\u001B[1;32m   6203\u001B[0m \u001B[38;5;28;01mif\u001B[39;00m \u001B[38;5;28misinstance\u001B[39m(key, Index):\n\u001B[1;32m   6204\u001B[0m     \u001B[38;5;66;03m# GH 42790 - Preserve name from an Index\u001B[39;00m\n",
      "File \u001B[0;32m~/.conda/envs/BeehiveDeathPrediction/lib/python3.10/site-packages/pandas/core/indexes/base.py:6252\u001B[0m, in \u001B[0;36mIndex._raise_if_missing\u001B[0;34m(self, key, indexer, axis_name)\u001B[0m\n\u001B[1;32m   6249\u001B[0m     \u001B[38;5;28;01mraise\u001B[39;00m \u001B[38;5;167;01mKeyError\u001B[39;00m(\u001B[38;5;124mf\u001B[39m\u001B[38;5;124m\"\u001B[39m\u001B[38;5;124mNone of [\u001B[39m\u001B[38;5;132;01m{\u001B[39;00mkey\u001B[38;5;132;01m}\u001B[39;00m\u001B[38;5;124m] are in the [\u001B[39m\u001B[38;5;132;01m{\u001B[39;00maxis_name\u001B[38;5;132;01m}\u001B[39;00m\u001B[38;5;124m]\u001B[39m\u001B[38;5;124m\"\u001B[39m)\n\u001B[1;32m   6251\u001B[0m not_found \u001B[38;5;241m=\u001B[39m \u001B[38;5;28mlist\u001B[39m(ensure_index(key)[missing_mask\u001B[38;5;241m.\u001B[39mnonzero()[\u001B[38;5;241m0\u001B[39m]]\u001B[38;5;241m.\u001B[39munique())\n\u001B[0;32m-> 6252\u001B[0m \u001B[38;5;28;01mraise\u001B[39;00m \u001B[38;5;167;01mKeyError\u001B[39;00m(\u001B[38;5;124mf\u001B[39m\u001B[38;5;124m\"\u001B[39m\u001B[38;5;132;01m{\u001B[39;00mnot_found\u001B[38;5;132;01m}\u001B[39;00m\u001B[38;5;124m not in index\u001B[39m\u001B[38;5;124m\"\u001B[39m)\n",
      "\u001B[0;31mKeyError\u001B[0m: \"['Humidity'] not in index\""
     ]
    }
   ],
   "execution_count": 2
  },
  {
   "metadata": {},
   "cell_type": "code",
   "source": [
    "def test_difference(survived: pd.DataFrame, died: pd.DataFrame):\n",
    "    stat, p_value = ttest_rel(survived['TemperatureDifference'], died['TemperatureDifference'])\n",
    "    return stat, p_value\n",
    "\n",
    "\n",
    "\n",
    "for i in range(len(sister_hives_dfs)):\n",
    "    print(f\"Test for {sister_hives[i][0]} vs {sister_hives[i][1]}\")\n",
    "    sister_hives_dfs[i][0].dropna(inplace=True)\n",
    "    sister_hives_dfs[i][1].dropna(inplace=True)\n",
    "    if len(sister_hives_dfs[i][0]) != len(sister_hives_dfs[i][1]):\n",
    "        print(\"Dataframes have different lengths\")\n",
    "        continue\n",
    "    \n",
    "    sister_hives_dfs[i][0]['TemperatureDifference'] = sister_hives_dfs[i][0]['TemperatureDifference'].abs()\n",
    "    sister_hives_dfs[i][1]['TemperatureDifference'] = sister_hives_dfs[i][1]['TemperatureDifference'].abs()\n",
    "    stat, p_value = test_difference(sister_hives_dfs[i][0], sister_hives_dfs[i][1])\n",
    "    print(f\"Statistic: {stat}, p-value: {p_value}\")\n",
    "    print()"
   ],
   "id": "45bc465b5b3ca80",
   "outputs": [],
   "execution_count": null
  },
  {
   "metadata": {
    "collapsed": true
   },
   "cell_type": "code",
   "source": [
    "# plot_sister_hives(sister_hives_dfs, sister_hives)\n",
    "\n",
    "def plot_temperature_difference(sister_hives: list[tuple[pd.DataFrame, pd.DataFrame]], hive_names: list[tuple[str, str]]):\n",
    "    fig, ax = plt.subplots()\n",
    "\n",
    "    for i in range(len(sister_hives)):\n",
    "        # Merge dataframes on 'Time' to ensure they have the same length\n",
    "        merged_df = pd.merge(sister_hives[i][0], sister_hives[i][1], on='Time', suffixes=('_survived', '_died'))\n",
    "        \n",
    "        # Calculate the difference in Temperature Difference\n",
    "        temp_diff = merged_df['TemperatureDifference_survived'] - merged_df['TemperatureDifference_died']\n",
    "        ax.plot(merged_df['Time'], temp_diff, label=f\"{hive_names[i][0]} - {hive_names[i][1]}\")\n",
    "\n",
    "    ax.set_title(\"Temperature Difference (Surviving Hive - Died Hive)\")\n",
    "    ax.set_xlabel(\"Date\")\n",
    "    ax.set_ylabel(\"Temperature Difference (°F)\")\n",
    "    ax.legend()\n",
    "\n",
    "    # Set the date format to exclude the year\n",
    "    date_format = DateFormatter(\"%m-%d\")\n",
    "    ax.xaxis.set_major_formatter(date_format)\n",
    "\n",
    "    plt.show()\n",
    "\n",
    "plot_temperature_difference(sister_hives_dfs, sister_hives)"
   ],
   "id": "initial_id",
   "outputs": [],
   "execution_count": null
  },
  {
   "metadata": {},
   "cell_type": "code",
   "source": [
    "def normalize_days(sister_hives: list[tuple[pd.DataFrame, pd.DataFrame]], times_of_death: list[pd.Timestamp]):\n",
    "    normalized_hives = []\n",
    "    for i, (surviving_df, died_df) in enumerate(sister_hives):\n",
    "        end_date = times_of_death[i]\n",
    "        start_date = end_date - pd.Timedelta(days=60)\n",
    "\n",
    "        surviving_df = surviving_df[(surviving_df['Time'] >= start_date) & (surviving_df['Time'] <= end_date)]\n",
    "        died_df = died_df[(died_df['Time'] >= start_date) & (died_df['Time'] <= end_date)]\n",
    "\n",
    "        normalized_hives.append((surviving_df, died_df))\n",
    "\n",
    "    return normalized_hives\n",
    "\n",
    "# Example usage\n",
    "# normalized_sister_hives = normalize_days(sister_hives_dfs, times_of_death)\n",
    "# plot_temperature_difference(normalized_sister_hives, sister_hives)"
   ],
   "id": "7a08d7bf3af2d39a",
   "outputs": [],
   "execution_count": null
  },
  {
   "metadata": {},
   "cell_type": "code",
   "source": [
    "def perform_mann_whitney_test(sister_hives: list[tuple[pd.DataFrame, pd.DataFrame]]):\n",
    "    results = []\n",
    "    for surviving_df, died_df in sister_hives:\n",
    "        # Convert TemperatureDifference to numeric, coercing errors to NaN\n",
    "        surviving_df['TemperatureDifference'] = pd.to_numeric(surviving_df['TemperatureDifference'], errors='coerce')\n",
    "        died_df['TemperatureDifference'] = pd.to_numeric(died_df['TemperatureDifference'], errors='coerce')\n",
    "\n",
    "        survived_temp_diff = surviving_df['TemperatureDifference'].dropna().values\n",
    "        died_temp_diff = died_df['TemperatureDifference'].dropna().values\n",
    "\n",
    "        # Perform the Mann-Whitney U test\n",
    "        stat, p_value = mannwhitneyu(survived_temp_diff, died_temp_diff, alternative='greater')\n",
    "        results.append((stat, p_value))\n",
    "\n",
    "    return results\n",
    "\n",
    "# Example usage\n",
    "test_results = perform_mann_whitney_test(sister_hives_dfs)\n",
    "for i, (stat, p_value) in enumerate(test_results):\n",
    "    print(f\"Test for {sister_hives[i][0]} vs {sister_hives[i][1]}: Statistic = {stat}, p-value = {p_value}\")"
   ],
   "id": "869e81c4ff680da4",
   "outputs": [],
   "execution_count": null
  }
 ],
 "metadata": {
  "kernelspec": {
   "display_name": "Python 3",
   "language": "python",
   "name": "python3"
  },
  "language_info": {
   "codemirror_mode": {
    "name": "ipython",
    "version": 2
   },
   "file_extension": ".py",
   "mimetype": "text/x-python",
   "name": "python",
   "nbconvert_exporter": "python",
   "pygments_lexer": "ipython2",
   "version": "2.7.6"
  }
 },
 "nbformat": 4,
 "nbformat_minor": 5
}
