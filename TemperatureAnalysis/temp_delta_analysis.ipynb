{
 "cells": [
  {
   "cell_type": "code",
   "id": "initial_id",
   "metadata": {
    "collapsed": true,
    "ExecuteTime": {
     "end_time": "2024-10-28T19:42:56.274537Z",
     "start_time": "2024-10-28T19:42:56.258460Z"
    }
   },
   "source": [
    "import pandas as pd\n",
    "from scipy.stats import ttest_ind, ttest_rel\n",
    "from datetime import datetime, timedelta\n",
    "import random\n",
    "import numpy as np\n",
    "import matplotlib.pyplot as plt\n",
    "\n",
    "from DeathPrediction.collect_data import CollectData\n",
    "from DeathPrediction import death_info\n",
    "from MongoUtils.mongo_helper import ClientSessionRefresh\n",
    "\n"
   ],
   "outputs": [],
   "execution_count": 41
  },
  {
   "metadata": {
    "ExecuteTime": {
     "end_time": "2024-10-28T19:42:56.305914Z",
     "start_time": "2024-10-28T19:42:56.295782Z"
    }
   },
   "cell_type": "code",
   "source": [
    "def make_dataframes(hives, deaths, hives_that_survived, days_back: int = 60):\n",
    "    survived_raw_values = {}\n",
    "    survived_prop_values = {}\n",
    "    died_raw_values = {}\n",
    "    died_prop_values = {}\n",
    "    survived_dataframes = {}\n",
    "    died_dataframes = {}\n",
    "    skipped_hives = []\n",
    "    for hive in hives:\n",
    "        survived = hive in hives_that_survived\n",
    "        if hive in deaths:\n",
    "            end_date = deaths[hive]\n",
    "        else:\n",
    "            end_date = datetime(2023, 4, 21)\n",
    "\n",
    "        start_date = datetime(2022, 4, 10)\n",
    "        # if hive not in hives_that_survived:\n",
    "        start_date = max(start_date, end_date - timedelta(days=days_back))\n",
    "\n",
    "        try:\n",
    "            df = cd.get_temp_dataframe(hive, start_date=start_date, end_date=end_date)\n",
    "\n",
    "        except ValueError as e:\n",
    "            skipped_hives.append(hive)\n",
    "            print(f\"Skipping hive {hive}: {e}\")\n",
    "            continue\n",
    "\n",
    "        if survived:\n",
    "            survived_raw_values[hive] = df['TemperatureDifference'].mean()\n",
    "            survived_prop_values[hive] = df['ProportionalDifference'].mean()\n",
    "            survived_dataframes[hive] = df\n",
    "\n",
    "        else:\n",
    "            died_raw_values[hive] = df['TemperatureDifference'].mean()\n",
    "            died_prop_values[hive] = df['ProportionalDifference'].mean()\n",
    "            died_dataframes[hive] = df\n",
    "\n",
    "    return survived_raw_values, survived_prop_values, died_raw_values, died_prop_values, skipped_hives, survived_dataframes, died_dataframes\n"
   ],
   "id": "782fb9d912e369ff",
   "outputs": [],
   "execution_count": 42
  },
  {
   "metadata": {
    "ExecuteTime": {
     "end_time": "2024-10-28T19:42:56.353406Z",
     "start_time": "2024-10-28T19:42:56.340544Z"
    }
   },
   "cell_type": "code",
   "source": [
    "\n",
    "def get_info(survived_values, died_values, equal_var: bool = True):\n",
    "    survived_mean = pd.Series(survived_values).mean()\n",
    "    survived_median = pd.Series(survived_values).median()\n",
    "    death_mean = pd.Series(died_values).mean()\n",
    "    death_median = pd.Series(died_values).median()\n",
    "    stat, p_value = ttest_ind(list(survived_values.values()), list(died_values.values()), equal_var=equal_var)\n",
    "\n",
    "    return survived_mean, survived_median, death_mean, death_median, stat, p_value\n",
    "\n"
   ],
   "id": "cff15404b1b70f85",
   "outputs": [],
   "execution_count": 43
  },
  {
   "metadata": {
    "ExecuteTime": {
     "end_time": "2024-10-28T19:42:56.400713Z",
     "start_time": "2024-10-28T19:42:56.386802Z"
    }
   },
   "cell_type": "code",
   "source": [
    "def analyze_temperature_std(survived_dataframes: dict[str, pd.DataFrame], died_dataframes: dict[str, pd.DataFrame]):\n",
    "    survived_list = []\n",
    "    died_list = []\n",
    "    for hive in survived_dataframes:\n",
    "        survived_list.extend(survived_dataframes[hive]['TemperatureDifference'])\n",
    "    for hive in died_dataframes:\n",
    "        died_list.extend(died_dataframes[hive]['TemperatureDifference'])\n",
    "\n",
    "    survived_list = [x for x in survived_list if not np.isnan(x)]\n",
    "    died_list = [x for x in died_list if not np.isnan(x)]\n",
    "    survived_mean = pd.Series(survived_list).mean()\n",
    "    survived_median = pd.Series(survived_list).median()\n",
    "    survived_std = pd.Series(survived_list).std()\n",
    "    died_mean = pd.Series(died_list).mean()\n",
    "    died_median = pd.Series(died_list).median()\n",
    "    died_std = pd.Series(died_list).std()\n",
    "\n",
    "    sample_size = min(10000, len(survived_list), len(died_list))\n",
    "    ind_stat, ind_p_value = ttest_ind(\n",
    "        random.sample(survived_list, sample_size),\n",
    "        random.sample(died_list, sample_size),\n",
    "        equal_var=True)\n",
    "    # paired_stat, paired_p_value = ttest_rel(\n",
    "    #     random.sample(survived_list, sample_size),\n",
    "    #     random.sample(died_list, sample_size),\n",
    "    #     equal_var=True)\n",
    "\n",
    "    return survived_mean, survived_median, survived_std, died_mean, died_median, died_std, ind_stat, ind_p_value"
   ],
   "id": "b9bcf29628822bda",
   "outputs": [],
   "execution_count": 44
  },
  {
   "metadata": {
    "ExecuteTime": {
     "end_time": "2024-10-28T19:42:56.447459Z",
     "start_time": "2024-10-28T19:42:56.434110Z"
    }
   },
   "cell_type": "code",
   "source": [
    "\n",
    "def plot_std_info(survived_mean, survived_median, survived_std, died_mean, died_median, died_std, stat, p_value):\n",
    "    # Data for plotting\n",
    "    categories = ['Survived', 'Died']\n",
    "    means = [survived_mean, died_mean]\n",
    "    std_devs = [survived_std, died_std]\n",
    "\n",
    "    # Create bar chart\n",
    "    fig, ax = plt.subplots()\n",
    "    bar_width = 0.4\n",
    "    index = np.arange(len(categories))\n",
    "\n",
    "    bars = ax.bar(index, means, bar_width, yerr=std_devs, capsize=5, label='Mean Temperature Difference')\n",
    "\n",
    "    # Adjust axis limits\n",
    "    ax.set_ylim(0, max(means) + max(std_devs) + 1)  # Add some padding above the highest bar\n",
    "\n",
    "    # Add labels and title\n",
    "    ax.set_xlabel('Group')\n",
    "    ax.set_ylabel('Mean Temperature Difference')\n",
    "    ax.set_title('Mean Temperature Difference with Standard Deviation')\n",
    "    ax.set_xticks(index)\n",
    "    ax.set_xticklabels(categories)\n",
    "    ax.legend()\n",
    "\n",
    "    # Adjust layout to ensure everything fits\n",
    "    plt.tight_layout()\n",
    "\n",
    "    # Show plot\n",
    "    plt.show()\n"
   ],
   "id": "a9786598b57d55e5",
   "outputs": [],
   "execution_count": 45
  },
  {
   "metadata": {
    "ExecuteTime": {
     "end_time": "2024-10-28T19:42:56.495445Z",
     "start_time": "2024-10-28T19:42:56.483369Z"
    }
   },
   "cell_type": "code",
   "source": [
    "\n",
    "def main(year: int, death_estimate: bool = True, jefferson_hives: bool = False):\n",
    "    \"\"\"\n",
    "    Args:\n",
    "        year: Year of the summer, so summer 2022-spring 2023 is 2022\n",
    "        death_estimate: 1 if using the late estimate, 0 if using the early estimate\n",
    "        jefferson_hives: 1 if using the Jefferson hives, 0 if not using the Jefferson hives\n",
    "\n",
    "    Returns:\n",
    "\n",
    "    \"\"\"\n",
    "    if year == 2022:\n",
    "        hives = death_info.get_2022_hives(jefferson_hives=jefferson_hives)\n",
    "        hives_that_survived = death_info.get_2022_survived()\n",
    "\n",
    "        if death_estimate:\n",
    "            deaths = death_info.get_2022_deaths_late(jefferson_hives)\n",
    "        else:\n",
    "            deaths = death_info.get_2022_deaths_early(jefferson_hives)\n",
    "    else:\n",
    "        raise NotImplementedError(\"Only 2022 is implemented\")\n",
    "\n",
    "    survived_raw, survived_prop, died_raw, died_prop, skipped_hives, survived_dataframes, died_dataframes = (\n",
    "        make_dataframes(hives, deaths, hives_that_survived))\n",
    "\n",
    "    survived_mean, survived_median, death_mean, death_median, stat, p_value = get_info(survived_raw, died_raw, True)\n",
    "    data = [(survived_mean, survived_median, death_mean, death_median, stat, p_value, skipped_hives)]\n",
    "\n",
    "    survived_mean, survived_median, death_mean, death_median, stat, p_value = get_info(survived_prop, died_prop, False)\n",
    "    data.append((survived_mean, survived_median, death_mean, death_median, stat, p_value, skipped_hives))\n",
    "\n",
    "    return data\n"
   ],
   "id": "bf5fb1fed498168c",
   "outputs": [],
   "execution_count": 46
  },
  {
   "metadata": {
    "ExecuteTime": {
     "end_time": "2024-10-28T19:43:32.753488Z",
     "start_time": "2024-10-28T19:42:56.528738Z"
    }
   },
   "cell_type": "code",
   "source": [
    "cd = CollectData()\n",
    "\n",
    "trials = pd.DataFrame(\n",
    "    columns=['Year', 'Data Type', 'Death Estimate', 'Jefferson Hives', 'Survived Mean', 'Died Mean', 'p-value'])\n",
    "with ClientSessionRefresh(cd.client):\n",
    "    # for year in [2022]:\n",
    "    #     for death_estimate in [False, True]:\n",
    "    #         for jefferson_hives in [False, True]:\n",
    "    #             results = main(year, death_estimate, jefferson_hives)\n",
    "    #             for i in range(2):\n",
    "    #                 survived_mean, survived_median, death_mean, death_median, stat, p_value, skipped_hives = \\\n",
    "    #                 results[i]\n",
    "    #                 trials = trials._append({\n",
    "    #                     'Year': year,\n",
    "    #                     'Death Estimate': \"early\" if death_estimate else \"late\",\n",
    "    #                     'Jefferson Hives': jefferson_hives,\n",
    "    #                     'Equal Variance': i == 0,\n",
    "    #                     'Belgium Hives': False,\n",
    "    #                     'Survived Mean': survived_mean,\n",
    "    #                     'Survived Median': survived_median,\n",
    "    #                     'Died Mean': death_mean,\n",
    "    #                     'Died Median': death_median,\n",
    "    #                     'stat': stat,\n",
    "    #                     'p-value': p_value,\n",
    "    #                     'Skipped Hives': skipped_hives\n",
    "    #                 },\n",
    "    #                     ignore_index=True)\n",
    "\n",
    "    year = 2022\n",
    "    death_estimate = True\n",
    "    jefferson_hives = False\n",
    "\n",
    "    a, b, c, d, e, survived_dfs, died_dfs = make_dataframes(death_info.get_2022_hives(jefferson_hives=jefferson_hives),\n",
    "                                                            # death_info.get_2022_deaths_late(jefferson_hives),\n",
    "                                                            death_info.get_2022_deaths_early(jefferson_hives),\n",
    "                                                            death_info.get_2022_survived(),\n",
    "                                                            days_back=60)"
   ],
   "id": "fbfc2eb8e444bb2f",
   "outputs": [
    {
     "name": "stderr",
     "output_type": "stream",
     "text": [
      "\u001B[32m2024-10-28 15:42:56.996\u001B[0m | \u001B[1mINFO    \u001B[0m | \u001B[36mMongoUtils.mongo_helper\u001B[0m:\u001B[36m__init__\u001B[0m:\u001B[36m797\u001B[0m - \u001B[1mInitialized Session Refresh Context Manager\u001B[0m\n",
      "\u001B[32m2024-10-28 15:42:57.002\u001B[0m | \u001B[1mINFO    \u001B[0m | \u001B[36mMongoUtils.mongo_helper\u001B[0m:\u001B[36m__init__\u001B[0m:\u001B[36m726\u001B[0m - \u001B[1mSession Thread Initialized.\u001B[0m\n",
      "\u001B[32m2024-10-28 15:42:57.003\u001B[0m | \u001B[1mINFO    \u001B[0m | \u001B[36mMongoUtils.mongo_helper\u001B[0m:\u001B[36mrun\u001B[0m:\u001B[36m732\u001B[0m - \u001B[1mRunning Session...\u001B[0m\n",
      "\u001B[32m2024-10-28 15:42:57.005\u001B[0m | \u001B[1mINFO    \u001B[0m | \u001B[36mMongoUtils.mongo_helper\u001B[0m:\u001B[36m__enter__\u001B[0m:\u001B[36m806\u001B[0m - \u001B[1mClient Session Thread Started. Refresh Rate: 5 minutes\u001B[0m\n"
     ]
    },
    {
     "name": "stdout",
     "output_type": "stream",
     "text": [
      "Skipping hive AppMAIS4L: No records found in HiveWeather or HiveWeather2 collections for the given criteria.\n"
     ]
    },
    {
     "name": "stderr",
     "output_type": "stream",
     "text": [
      "\u001B[32m2024-10-28 15:43:32.696\u001B[0m | \u001B[1mINFO    \u001B[0m | \u001B[36mMongoUtils.mongo_helper\u001B[0m:\u001B[36mexit_loop\u001B[0m:\u001B[36m741\u001B[0m - \u001B[1mSession Thread Terminating...\u001B[0m\n",
      "\u001B[32m2024-10-28 15:43:32.737\u001B[0m | \u001B[1mINFO    \u001B[0m | \u001B[36mMongoUtils.mongo_helper\u001B[0m:\u001B[36m_keep_session_alive\u001B[0m:\u001B[36m769\u001B[0m - \u001B[1mSession Ended\u001B[0m\n",
      "\u001B[32m2024-10-28 15:43:32.738\u001B[0m | \u001B[1mINFO    \u001B[0m | \u001B[36mMongoUtils.mongo_helper\u001B[0m:\u001B[36m__exit__\u001B[0m:\u001B[36m818\u001B[0m - \u001B[1mClient Session Context Manager Exited.\u001B[0m\n"
     ]
    }
   ],
   "execution_count": 47
  },
  {
   "metadata": {
    "ExecuteTime": {
     "end_time": "2024-10-28T19:43:33.003836Z",
     "start_time": "2024-10-28T19:43:32.812937Z"
    }
   },
   "cell_type": "code",
   "source": [
    "s_mean, s_med, s_std, d_mean, d_med, d_std, stat, p = analyze_temperature_std(survived_dfs, died_dfs)\n",
    "print(f\"Survived Mean: {s_mean}\")\n",
    "print(f\"Survived Median: {s_med}\")\n",
    "print(f\"Survived Std: {s_std}\")\n",
    "print(f\"Died Mean: {d_mean}\")\n",
    "print(f\"Died Median: {d_med}\")\n",
    "print(f\"Died Std: {d_std}\")\n",
    "print(f\"t-stat: {stat}\")\n",
    "print(f\"p-value: {p}\")"
   ],
   "id": "fdde33852f58ea36",
   "outputs": [
    {
     "name": "stdout",
     "output_type": "stream",
     "text": [
      "Survived Mean: 16.466126649409684\n",
      "Survived Median: 18.340000000000003\n",
      "Survived Std: 15.485954807650806\n",
      "Died Mean: 18.73327196331353\n",
      "Died Median: 18.78\n",
      "Died Std: 15.333678783818259\n",
      "t-stat: -11.421452981259254\n",
      "p-value: 4.05116008014478e-30\n"
     ]
    }
   ],
   "execution_count": 48
  },
  {
   "metadata": {
    "ExecuteTime": {
     "end_time": "2024-10-28T19:43:33.439992Z",
     "start_time": "2024-10-28T19:43:33.082748Z"
    }
   },
   "cell_type": "code",
   "source": [
    "# Data for plotting\n",
    "categories = ['Survived', 'Died']\n",
    "means = [s_mean, d_mean]\n",
    "medians = [s_med, d_med]\n",
    "std_devs = [s_std, d_std]\n",
    "\n",
    "# Create histograms\n",
    "fig, ax = plt.subplots(1, 3, figsize=(15, 5))\n",
    "\n",
    "# Mean histogram\n",
    "ax[0].bar(categories, means, color=['blue', 'red'])\n",
    "ax[0].set_title('Mean Temperature Delta')\n",
    "ax[0].set_ylabel('Mean')\n",
    "\n",
    "# Median histogram\n",
    "ax[1].bar(categories, medians, color=['blue', 'red'])\n",
    "ax[1].set_title('Median Temperature Delta')\n",
    "ax[1].set_ylabel('Median')\n",
    "\n",
    "# Standard Deviation histogram\n",
    "ax[2].bar(categories, std_devs, color=['blue', 'red'])\n",
    "ax[2].set_title('Standard Deviation of Temperature Delta')\n",
    "ax[2].set_ylabel('Standard Deviation')\n",
    "\n",
    "# Add footer with p-value\n",
    "fig.text(0.5, 0.01, f'p-value: {p:.4f}', ha='center', fontsize=12)\n",
    "\n",
    "\n",
    "# Adjust layout to ensure everything fits\n",
    "plt.tight_layout()\n",
    "\n",
    "# Show plot\n",
    "plt.show()"
   ],
   "id": "dd36b7dbf1f63686",
   "outputs": [
    {
     "data": {
      "text/plain": [
       "<Figure size 1500x500 with 3 Axes>"
      ],
      "image/png": "[encoded data removed]"
     },
     "metadata": {},
     "output_type": "display_data"
    }
   ],
   "execution_count": 49
  }
 ],
 "metadata": {
  "kernelspec": {
   "display_name": "Python 3",
   "language": "python",
   "name": "python3"
  },
  "language_info": {
   "codemirror_mode": {
    "name": "ipython",
    "version": 2
   },
   "file_extension": ".py",
   "mimetype": "text/x-python",
   "name": "python",
   "nbconvert_exporter": "python",
   "pygments_lexer": "ipython2",
   "version": "2.7.6"
  }
 },
 "nbformat": 4,
 "nbformat_minor": 5
}
